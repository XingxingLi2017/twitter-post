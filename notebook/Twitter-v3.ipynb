{
 "metadata": {
  "name": "",
  "signature": "sha256:c3682c47ba98ac2d9e172ca25af1f5ccad4d5fbcb7a4a40e3a564f71390a7434"
 },
 "nbformat": 3,
 "nbformat_minor": 0,
 "worksheets": [
  {
   "cells": [
    {
     "cell_type": "heading",
     "level": 2,
     "metadata": {},
     "source": [
      "Set Twitter and MonkeyLearn API credentials"
     ]
    },
    {
     "cell_type": "markdown",
     "metadata": {},
     "source": [
      "You can get Twitter API credentials [by signing in with your Twitter account](https://apps.twitter.com) and then registering an app."
     ]
    },
    {
     "cell_type": "code",
     "collapsed": false,
     "input": [
      "# TWITTER SETTINGS\n",
      "# Put here your credentials to consume Twitter API\n",
      "TWITTER_CONSUMER_KEY = ''\n",
      "TWITTER_CONSUMER_SECRET = ''\n",
      "TWITTER_ACCESS_TOKEN_KEY = ''\n",
      "TWITTER_ACCESS_TOKEN_SECRET = ''\n",
      "\n",
      "# This is the twitter user that we will be profiling using our news classifier.\n",
      "#TWITTER_USER = 'raulgarreta'\n",
      "TWITTER_USER = 'katyperry'"
     ],
     "language": "python",
     "metadata": {},
     "outputs": [],
     "prompt_number": 165
    },
    {
     "cell_type": "markdown",
     "metadata": {},
     "source": [
      "You can [signup with MonkeyLearn](http://www.monkeylearn.com/) and get your [API token](https://app.monkeylearn.com/accounts/user/settings/)."
     ]
    },
    {
     "cell_type": "code",
     "collapsed": false,
     "input": [
      "# MONKEYLEARN SETTINGS\n",
      "# Put here your MonkeyLearn API token\n",
      "MONKEYLEARN_TOKEN = ''"
     ],
     "language": "python",
     "metadata": {},
     "outputs": [],
     "prompt_number": 166
    },
    {
     "cell_type": "code",
     "collapsed": false,
     "input": [
      "MONKEYLEARN_CLASSIFIER_BASE_URL = 'https://api.monkeylearn.com/api/v1/categorizer/'\n",
      "MONKEYLEARN_EXTRACTOR_BASE_URL = 'https://api.monkeylearn.com/api/v1/extraction/'\n",
      "\n",
      "# This classifier is used to detect the tweet/bio's language\n",
      "MONKEYLEARN_LANG_CLASSIFIER_ID = 'cl_hDDngsX8'\n",
      "\n",
      "# This classifier is used to detect the tweet/bio's topics\n",
      "MONKEYLEARN_TOPIC_CLASSIFIER_ID = 'cl_5icAVzKR'\n",
      "\n",
      "# This extractor is used to extract keywords from tweets and bios\n",
      "MONKEYLEARN_EXTRACTOR_ID = 'ex_y7BPYzNG'"
     ],
     "language": "python",
     "metadata": {},
     "outputs": [],
     "prompt_number": 167
    },
    {
     "cell_type": "heading",
     "level": 2,
     "metadata": {},
     "source": [
      "Get user data with Twitter API"
     ]
    },
    {
     "cell_type": "code",
     "collapsed": false,
     "input": [
      "# tweepy is used to call the Twitter API from Python\n",
      "import tweepy\n",
      "import re\n",
      "\n",
      "# Authenticate to Twitter API\n",
      "auth = tweepy.OAuthHandler(TWITTER_CONSUMER_KEY, TWITTER_CONSUMER_SECRET)\n",
      "auth.set_access_token(TWITTER_ACCESS_TOKEN_KEY, TWITTER_ACCESS_TOKEN_SECRET)\n",
      "api = tweepy.API(auth)"
     ],
     "language": "python",
     "metadata": {},
     "outputs": [],
     "prompt_number": 168
    },
    {
     "cell_type": "code",
     "collapsed": false,
     "input": [
      "from random import shuffle\n",
      "\n",
      "def get_friends_descriptions(api, twitter_account, max_users=100):\n",
      "    \"\"\"\n",
      "    Return the bios of the people that a user follows\n",
      "    \n",
      "    api -- the tweetpy API object\n",
      "    twitter_account -- the Twitter handle of the user\n",
      "    max_users -- the maximum amount of users to return\n",
      "    \"\"\"\n",
      "    \n",
      "    user_ids = api.friends_ids(twitter_account)\n",
      "    shuffle(user_ids)\n",
      "    \n",
      "    following = []\n",
      "    for start in xrange(0, min(max_users, len(user_ids)), 100):\n",
      "        end = start + 100\n",
      "        following.extend(api.lookup_users(user_ids[start:end]))\n",
      "    \n",
      "    descriptions = []\n",
      "    for user in following:\n",
      "        description = re.sub(r'(https?://\\S+)', '', user.description)\n",
      "\n",
      "        # Only descriptions with at least ten words.\n",
      "        if len(re.split(r'[^0-9A-Za-z]+', description)) > 10:\n",
      "            descriptions.append(description.strip('#').strip('@'))\n",
      "    \n",
      "    return descriptions"
     ],
     "language": "python",
     "metadata": {},
     "outputs": [],
     "prompt_number": 169
    },
    {
     "cell_type": "code",
     "collapsed": false,
     "input": [
      "# Get the descriptions of the people that twitter_user is following.\n",
      "descriptions = get_friends_descriptions(api, TWITTER_USER, max_users=300)"
     ],
     "language": "python",
     "metadata": {},
     "outputs": [],
     "prompt_number": 170
    },
    {
     "cell_type": "code",
     "collapsed": false,
     "input": [
      "def get_tweets(api, twitter_user, tweet_type='timeline', max_tweets=200, min_words=5):\n",
      "    \n",
      "    tweets = []\n",
      "    \n",
      "    full_tweets = []\n",
      "    step = 200  # Maximum value is 200.\n",
      "    for start in xrange(0, max_tweets, step):\n",
      "        end = start + step\n",
      "        \n",
      "        # Maximum of `step` tweets, or the remaining to reach max_tweets.\n",
      "        count = min(step, max_tweets - start)\n",
      "\n",
      "        kwargs = {'count': count}\n",
      "        if full_tweets:\n",
      "            last_id = full_tweets[-1].id\n",
      "            kwargs['max_id'] = last_id - 1\n",
      "\n",
      "        if tweet_type == 'timeline':\n",
      "            current = api.user_timeline(twitter_user, **kwargs)\n",
      "        else:\n",
      "            current = api.favorites(twitter_user, **kwargs)\n",
      "        \n",
      "        full_tweets.extend(current)\n",
      "    \n",
      "    for tweet in full_tweets:\n",
      "        text = re.sub(r'(https?://\\S+)', '', tweet.text)\n",
      "        \n",
      "        score = tweet.favorite_count + tweet.retweet_count\n",
      "        if tweet.in_reply_to_status_id_str:\n",
      "            score -= 15\n",
      "\n",
      "        # Only tweets with at least five words.\n",
      "        if len(re.split(r'[^0-9A-Za-z]+', text)) > min_words:\n",
      "            tweets.append((text, score))\n",
      "            \n",
      "    return tweets\n"
     ],
     "language": "python",
     "metadata": {},
     "outputs": [],
     "prompt_number": 171
    },
    {
     "cell_type": "code",
     "collapsed": false,
     "input": [
      "tweets = []\n",
      "tweets.extend(get_tweets(api, TWITTER_USER, 'timeline', 1000))  # 400 = 2 requests (out of 15 in the window).\n",
      "tweets.extend(get_tweets(api, TWITTER_USER, 'favorites', 400))  # 1000 = 5 requests (out of 180 in the window)."
     ],
     "language": "python",
     "metadata": {},
     "outputs": [],
     "prompt_number": 172
    },
    {
     "cell_type": "code",
     "collapsed": false,
     "input": [
      "tweets = map(lambda t: t[0], sorted(tweets, key=lambda t: t[1], reverse=True))[:500]"
     ],
     "language": "python",
     "metadata": {},
     "outputs": [],
     "prompt_number": 173
    },
    {
     "cell_type": "heading",
     "level": 2,
     "metadata": {},
     "source": [
      "Detect language with MonkeyLearn API"
     ]
    },
    {
     "cell_type": "markdown",
     "metadata": {},
     "source": [
      "We'll keep only English tweets and bios"
     ]
    },
    {
     "cell_type": "code",
     "collapsed": false,
     "input": [
      "import requests\n",
      "import json\n",
      "\n",
      "# This is a handy function to classify a list of texts in batch mode (much faster)\n",
      "def classify_batch(text_list, classifier_id):\n",
      "    \"\"\"\n",
      "    Batch classify texts\n",
      "    text_list -- list of texts to be classified\n",
      "    classifier_id -- id of the MonkeyLearn classifier to be applied to the texts\n",
      "    \"\"\"\n",
      "    results = []\n",
      "    \n",
      "    step = 250\n",
      "    for start in xrange(0, len(text_list), step):\n",
      "        end = start + step\n",
      "\n",
      "        data = {'text_list': text_list[start:end]}\n",
      "\n",
      "        response = requests.post(\n",
      "            MONKEYLEARN_CLASSIFIER_BASE_URL + classifier_id + '/classify_batch_text/',\n",
      "            data=json.dumps(data),\n",
      "            headers={\n",
      "                'Authorization': 'Token {}'.format(MONKEYLEARN_TOKEN),\n",
      "                'Content-Type': 'application/json'\n",
      "        })\n",
      "        \n",
      "        try:\n",
      "            results.extend(response.json()['result'])\n",
      "        except:\n",
      "            print response.text\n",
      "            raise\n",
      "\n",
      "    return results"
     ],
     "language": "python",
     "metadata": {},
     "outputs": [],
     "prompt_number": 174
    },
    {
     "cell_type": "code",
     "collapsed": false,
     "input": [
      "def filter_language(texts, language='English'):\n",
      "    \n",
      "    # Get the language of the tweets and bios using Monkeylearn's Language classifier\n",
      "    lang_classifications = classify_batch(texts, MONKEYLEARN_LANG_CLASSIFIER_ID)\n",
      "    \n",
      "    # Only keep the descriptions that are writtern in English.\n",
      "    lang_texts = [\n",
      "        text\n",
      "        for text, prediction in zip(texts, lang_classifications)\n",
      "        if prediction[0]['label'] == language\n",
      "    ]\n",
      "\n",
      "    return lang_texts"
     ],
     "language": "python",
     "metadata": {},
     "outputs": [],
     "prompt_number": 175
    },
    {
     "cell_type": "code",
     "collapsed": false,
     "input": [
      "descriptions_english = filter_language(descriptions)\n",
      "print \"Descriptions found: {}\".format(len(descriptions_english))"
     ],
     "language": "python",
     "metadata": {},
     "outputs": [
      {
       "output_type": "stream",
       "stream": "stdout",
       "text": [
        "Descriptions found: 61\n"
       ]
      }
     ],
     "prompt_number": 176
    },
    {
     "cell_type": "code",
     "collapsed": false,
     "input": [
      "tweets_english = filter_language(tweets)\n",
      "print \"Tweets found: {}\".format(len(tweets_english))"
     ],
     "language": "python",
     "metadata": {},
     "outputs": [
      {
       "output_type": "stream",
       "stream": "stdout",
       "text": [
        "Tweets found: 495\n"
       ]
      }
     ],
     "prompt_number": 177
    },
    {
     "cell_type": "heading",
     "level": 2,
     "metadata": {},
     "source": [
      "Expand context of the data"
     ]
    },
    {
     "cell_type": "markdown",
     "metadata": {},
     "source": [
      "The following section is optional. You can use Bing search to expand the context of the data to obtain better classification accuracy.\n"
     ]
    },
    {
     "cell_type": "code",
     "collapsed": false,
     "input": [
      "def extract_keywords(text_list, max_keywords):\n",
      "    results = []\n",
      "    step = 250\n",
      "    for start in xrange(0, len(text_list), step):\n",
      "        end = start + step\n",
      "\n",
      "        data = {'text_list': text_list[start:end],\n",
      "                'max_keywords': max_keywords}\n",
      "\n",
      "        response = requests.post(\n",
      "            MONKEYLEARN_EXTRACTOR_BASE_URL + MONKEYLEARN_EXTRACTOR_ID + '/extract_batch_text/',\n",
      "            data=json.dumps(data),\n",
      "            headers={\n",
      "                'Authorization': 'Token {}'.format(MONKEYLEARN_TOKEN),\n",
      "                'Content-Type': 'application/json'\n",
      "        })\n",
      "\n",
      "        try:\n",
      "            results.extend(response.json()['result'])\n",
      "        except:\n",
      "            print response.text\n",
      "            raise\n",
      "\n",
      "    return results"
     ],
     "language": "python",
     "metadata": {},
     "outputs": [],
     "prompt_number": 178
    },
    {
     "cell_type": "code",
     "collapsed": false,
     "input": [
      "import multiprocessing.dummy as multiprocessing\n",
      "\n",
      "BING_KEY = ''\n",
      "EXPAND_TWEETS = False\n",
      "\n",
      "def _bing_search(query):\n",
      "    \n",
      "    MAX_EXPANSIONS = 5\n",
      "    \n",
      "    params = {\n",
      "        'Query': u\"'{}'\".format(query),\n",
      "        '$format': 'json',\n",
      "    }\n",
      "    \n",
      "    response = requests.get(\n",
      "        'https://api.datamarket.azure.com/Bing/Search/v1/Web',\n",
      "        params=params,\n",
      "        auth=(BING_KEY, BING_KEY)\n",
      "    )\n",
      "    \n",
      "    try:    \n",
      "        response = response.json()\n",
      "    except ValueError as e:\n",
      "        print e\n",
      "        print response.status_code\n",
      "        print response.text\n",
      "        texts = []\n",
      "        return\n",
      "    else:\n",
      "        texts = []\n",
      "        for result in response['d']['results'][:MAX_EXPANSIONS]:\n",
      "            texts.append(result['Title'])\n",
      "            texts.append(result['Description'])\n",
      "\n",
      "    return u\" \".join(texts)\n",
      "\n",
      "\n",
      "def _expand_text(text):\n",
      "    result = text + u\"\\n\" + _bing_search(text)\n",
      "    print result\n",
      "    return result\n",
      "\n",
      "\n",
      "def expand_texts(texts):\n",
      "    \n",
      "    # First extract hashtags and keywords from the text to form the queries\n",
      "    queries = []\n",
      "    keyword_list = extract_keywords(texts, 10)\n",
      "    for text, keywords in zip(texts, keyword_list):\n",
      "        query = ' '.join([item['keyword'] for item in keywords])\n",
      "        query = query.lower()\n",
      "        tags = re.findall(r\"#(\\w+)\", text)\n",
      "        for tag in tags:\n",
      "            tag = tag.lower()\n",
      "            if tag not in query:\n",
      "                query = tag + ' ' + query\n",
      "        queries.append(query)\n",
      "        \n",
      "    pool = multiprocessing.Pool(2)\n",
      "    return pool.map(_expand_text, queries)\n"
     ],
     "language": "python",
     "metadata": {},
     "outputs": [],
     "prompt_number": 179
    },
    {
     "cell_type": "code",
     "collapsed": false,
     "input": [
      "# Use Bing search to expand the context of descriptions\n",
      "expanded_descriptions = descriptions_english\n",
      "#expanded_descriptions = expand_texts(descriptions_english)"
     ],
     "language": "python",
     "metadata": {},
     "outputs": [],
     "prompt_number": 180
    },
    {
     "cell_type": "code",
     "collapsed": false,
     "input": [
      "# Use Bing search to expand the context of tweets\n",
      "if EXPAND_TWEETS:\n",
      "    expanded_tweets = expand_texts(tweets_english)\n",
      "else:\n",
      "    expanded_tweets = tweets_english"
     ],
     "language": "python",
     "metadata": {},
     "outputs": [],
     "prompt_number": 181
    },
    {
     "cell_type": "heading",
     "level": 2,
     "metadata": {},
     "source": [
      "Detect the topics with MonkeyLearn API"
     ]
    },
    {
     "cell_type": "code",
     "collapsed": false,
     "input": [
      "from collections import Counter\n",
      "\n",
      "def category_histogram(texts, short_texts):\n",
      "    \n",
      "    # Classify the bios and tweets with MonkeyLearn's news classifier.\n",
      "    topics = classify_batch(texts, MONKEYLEARN_TOPIC_CLASSIFIER_ID)\n",
      "    \n",
      "    # The histogram will keep the counters of how many texts fall in\n",
      "    # a given category.\n",
      "    histogram = Counter()\n",
      "    samples = {}\n",
      "\n",
      "    for classification, text, short_text in zip(topics, texts, short_texts):\n",
      "\n",
      "        # Join the parent and child category names in one string.\n",
      "        category = classification[0]['label']\n",
      "        probability = classification[0]['probability']\n",
      "        \n",
      "        if len(classification) > 1:\n",
      "            category += '/' + classification[1]['label']\n",
      "            probability *= classification[1]['probability']\n",
      "        \n",
      "        MIN_PROB = 0.0\n",
      "        # Discard texts with a predicted topic with probability lower than a treshold\n",
      "        if probability < MIN_PROB:\n",
      "            continue\n",
      "        \n",
      "        # Increment the category counter.\n",
      "        histogram[category] += 1\n",
      "        \n",
      "        # Store the texts by category\n",
      "        samples.setdefault(category, []).append((short_text, text))\n",
      "        \n",
      "    return histogram, samples"
     ],
     "language": "python",
     "metadata": {},
     "outputs": [],
     "prompt_number": 182
    },
    {
     "cell_type": "code",
     "collapsed": false,
     "input": [
      "# Classify the expanded bios of the followed users using MonkeyLearn, return the historgram\n",
      "descriptions_histogram, descriptions_categorized = category_histogram(expanded_descriptions, descriptions_english)\n",
      "\n",
      "# Print the catogories sorted by most frequent\n",
      "for topic, count in descriptions_histogram.most_common():\n",
      "    print count, topic"
     ],
     "language": "python",
     "metadata": {},
     "outputs": [
      {
       "output_type": "stream",
       "stream": "stdout",
       "text": [
        "8 Society/Special Occasions\n",
        "7 Humanities/Art\n",
        "7 Entertainment & Recreation/Television\n",
        "5 Computers & Internet/Internet\n",
        "4 Entertainment & Recreation/Movies\n",
        "3 Beauty & Style\n",
        "3 Consumer Electronics/Mobile Devices\n",
        "3 Animals/Mammals\n",
        "3 Home\n",
        "2 Animals/Legendary Creatures\n",
        "2 Entertainment & Recreation/Games & Recreation\n",
        "1 Entertainment & Recreation/Radio\n",
        "1 Animals/Reptiles\n",
        "1 Entertainment & Recreation/Hobbies\n",
        "1 Environment\n",
        "1 Society/Parenting\n",
        "1 Entertainment & Recreation/Anime\n",
        "1 Animals/Birds\n",
        "1 Society/Relationships\n",
        "1 Entertainment & Recreation/Outdoor recreation\n",
        "1 Food & Drink/Vegan & Vegetarian\n",
        "1 Gardening\n",
        "1 Food & Drink/Beverages\n",
        "1 Business & Finance/Advertising & Marketing\n",
        "1 Food & Drink/Alcoholic Drinks\n"
       ]
      }
     ],
     "prompt_number": 183
    },
    {
     "cell_type": "code",
     "collapsed": false,
     "input": [
      "# Classify the expanded tweets using MonkeyLearn, return the historgram\n",
      "tweets_histogram, tweets_categorized = category_histogram(expanded_tweets, tweets_english)\n",
      "\n",
      "# Print the catogories sorted by most frequent\n",
      "for topic, count in tweets_histogram.most_common():\n",
      "    print count, topic"
     ],
     "language": "python",
     "metadata": {},
     "outputs": [
      {
       "output_type": "stream",
       "stream": "stdout",
       "text": [
        "51 Society/Special Occasions\n",
        "45 Beauty & Style\n",
        "36 Entertainment & Recreation/Television\n",
        "30 Entertainment & Recreation/Movies\n",
        "30 Entertainment & Recreation/Games & Recreation\n",
        "29 Home\n",
        "26 Humanities/Art\n",
        "24 Consumer Electronics/Mobile Devices\n",
        "15 Society/Relationships\n",
        "12 Food & Drink/World cuisine\n",
        "11 Computers & Internet/Internet\n",
        "11 Education\n",
        "10 Society/Parenting\n",
        "9 Consumer Electronics/Audio\n",
        "9 Food & Drink/Cooking\n",
        "9 Gardening\n",
        "8 Food & Drink/Alcoholic Drinks\n",
        "7 Humanities/Religion & Spirituality\n",
        "7 Food & Drink/Restaurants & Bars\n",
        "7 Consumer Electronics/Video\n",
        "6 Animals/Mammals\n",
        "5 Travel/Transportation\n",
        "5 Animals/Legendary Creatures\n",
        "5 Entertainment & Recreation/Celebrities\n",
        "5 Health & Medicine/Diseases & Health Conditions\n",
        "4 Humanities/Language\n",
        "4 Entertainment & Recreation/Outdoor recreation\n",
        "4 Environment\n",
        "4 Travel/Accommodation\n",
        "4 Food & Drink/Beverages\n",
        "4 Entertainment & Recreation/Jokes\n",
        "4 Health & Medicine/Mental health\n",
        "3 Animals/Fish\n",
        "3 Science & Mathematics/Astronomy & Space\n",
        "3 Society/Government\n",
        "3 Animals/Birds\n",
        "3 Food & Drink/Vegan & Vegetarian\n",
        "2 Entertainment & Recreation/Radio\n",
        "2 Animals/Reptiles\n",
        "2 Entertainment & Recreation/Horoscopes\n",
        "2 Entertainment & Recreation/Amusement Parks\n",
        "2 Computers & Internet/Programming\n",
        "2 Entertainment & Recreation/Magazines\n",
        "2 Humanities/Social Science\n",
        "2 Travel/Tourism\n",
        "2 Health & Medicine/Alternative Medicine\n",
        "2 Humanities/History\n",
        "2 Computers & Internet/Computers\n",
        "2 Science & Mathematics/Engineering\n",
        "1 Animals/Insects\n",
        "1 Business & Finance/Real Estate\n",
        "1 Science & Mathematics/Weather\n",
        "1 Entertainment & Recreation/Hobbies\n",
        "1 Society/Societal groups\n",
        "1 Health & Medicine/Drugs\n",
        "1 Entertainment & Recreation/Anime\n",
        "1 Business & Finance/Small business\n",
        "1 Business & Finance/Major Companies\n",
        "1 Science & Mathematics/Chemistry\n",
        "1 Animals/Amphibians\n",
        "1 Science & Mathematics/Physics\n",
        "1 Business & Finance/Advertising & Marketing\n",
        "1 Entertainment & Recreation/Comics\n",
        "1 Animals/Invertebrates\n",
        "1 Animals/Veterinary\n"
       ]
      }
     ],
     "prompt_number": 184
    },
    {
     "cell_type": "heading",
     "level": 2,
     "metadata": {},
     "source": [
      "Plot the most popular topics"
     ]
    },
    {
     "cell_type": "code",
     "collapsed": false,
     "input": [
      "%matplotlib inline\n",
      "#import seaborn as sns\n",
      "import matplotlib.pyplot as plt\n",
      "\n",
      "# Add the two histograms (bios and tweets) to a total histogram\n",
      "total_histogram = tweets_histogram + descriptions_histogram\n",
      "\n",
      "# Get the top N categories by frequency\n",
      "max_categories = 6\n",
      "top_categories, values = zip(*total_histogram.most_common(max_categories))\n",
      "\n",
      "# Plot the distribution of the top categories with a pie chart\n",
      "plt.figure(1, figsize=(5,5))\n",
      "ax = plt.axes([0.1, 0.1, 0.8, 0.8])\n",
      "\n",
      "plt.pie(\n",
      "    values,\n",
      "    labels=top_categories,\n",
      "    shadow=True,\n",
      "    colors = [\n",
      "        (0.86, 0.37, 0.34), (0.86, 0.76, 0.34), (0.57, 0.86, 0.34), (0.34, 0.86, 0.50),\n",
      "        (0.34, 0.83, 0.86), (0.34, 0.44, 0.86), (0.63, 0.34, 0.86), (0.86, 0.34, 0.70),\n",
      "    ],\n",
      "    radius=20,\n",
      "    autopct='%1.f%%',\n",
      ")\n",
      "\n",
      "plt.axis('equal')\n",
      "plt.show()"
     ],
     "language": "python",
     "metadata": {},
     "outputs": [
      {
       "metadata": {},
       "output_type": "display_data",
       "png": "[encoded data removed]",
       "text": [
        "<matplotlib.figure.Figure at 0x7f39fc1ece90>"
       ]
      }
     ],
     "prompt_number": 186
    },
    {
     "cell_type": "heading",
     "level": 2,
     "metadata": {},
     "source": [
      "Get the keywords of each category with MonkeyLearn API"
     ]
    },
    {
     "cell_type": "code",
     "collapsed": false,
     "input": [
      "joined_texts = {}\n",
      "\n",
      "for category in tweets_categorized:\n",
      "    if category not in top_categories:\n",
      "        continue\n",
      "    \n",
      "    expanded = 0\n",
      "    joined_texts[category] = u' '.join(map(lambda t: t[expanded], tweets_categorized[category]))"
     ],
     "language": "python",
     "metadata": {},
     "outputs": [],
     "prompt_number": 187
    },
    {
     "cell_type": "code",
     "collapsed": false,
     "input": [
      "keywords = dict(zip(joined_texts.keys(), extract_keywords(joined_texts.values(), 20)))"
     ],
     "language": "python",
     "metadata": {},
     "outputs": [],
     "prompt_number": 188
    },
    {
     "cell_type": "code",
     "collapsed": false,
     "input": [
      "for cat, kw in keywords.iteritems():\n",
      "    top_relevant = map(\n",
      "        lambda x: x.get('keyword'),\n",
      "        sorted(kw, key=lambda x: float(x.get('relevance')), reverse=True)\n",
      "    )\n",
      "    \n",
      "    print u\"{}: {}\".format(cat, u\", \".join(top_relevant))"
     ],
     "language": "python",
     "metadata": {},
     "outputs": [
      {
       "output_type": "stream",
       "stream": "stdout",
       "text": [
        "Entertainment & Recreation/Movies: happy birthday, video music awards, lovely japanese fans, new movie noah, favorite pop star, wild wild west, dark horse feat, real life decisions, tacky denim dream, cat competition omg, full moon tonight, full moon freak, wild west version, treadmill, today, nice things, denim dress, good mood, dear person, sad cheeto\n",
        "Beauty & Style: truman show, pony tail, face, school girl raincoat, record neon icon, ootd school girl, okay hello kitty, little white feather, rip joan rivers, james turrell exhibition, new record neon, comer zara larsson, hello kitty fans, called black widow, girl raincoat vibez, video, joan, way, life, grace\n",
        "Humanities/Art: pop, deez aussie streets, new play calpurnia, china national orchestra, keep call dem, highlarious new play, sydney opera house, olivia newton john, california dreams tours, fine tuning program, top shirley temple, 1st pop-up shop, melb, let, memphis, party trill, added song, 1st day, last time, music video\n",
        "Entertainment & Recreation/Games & Recreation: traumatic childhood memory, super bowl xlix, australian jet lag, favorite songs/music videos, game strong\u00e9 neti, top female tour, new trap hit, squad game strong\u00e9, xlix halftime show, pepsi super bowl, 6th train squad, ermagherd derk herse, big surprise announcement, prismatic world tour, train squad game, bowl xlix halftime, game, day, shows, ball change\n",
        "Society/Special Occasions: day, happy new year, years, night, halloween costume, something, thanks, happy birthday, world tour presale, mancini pandora day, last night tho, aka stylist auntie, great time tonight, katycats per night, big happy birthday, 1st facetime thanksgiving, family reunion tonight, happy 50th show, big family reunion, transcendental meditation today\n",
        "Entertainment & Recreation/Television: tonight, guys, day, little couture maisonvalentino, new music video, new favorite sport, australian tour tonight, big musical contribution, couture outfit fer, bud allison williams, werk dem cameras, outfit fer tonight, pre show ritual, brand new music, look flossy tonight, single show sold, nothing, life, hit everyone, perth-fect place\n"
       ]
      }
     ],
     "prompt_number": 189
    },
    {
     "cell_type": "code",
     "collapsed": false,
     "input": [
      "from IPython.display import Javascript\n",
      "\n",
      "libs = [\n",
      "    \"http://d3js.org/d3.v3.min.js\",\n",
      "    \"http://www.jasondavies.com/wordcloud/d3.layout.cloud.js\"\n",
      "]\n",
      "\n",
      "def plot_wordcloud(wordcloud):\n",
      "    return Javascript(\"\"\"\n",
      "                var fill = d3.scale.category20b();\n",
      "\n",
      "                var cloudNode = $('<div id=\"wordcloud\"></div>');\n",
      "                element.append(cloudNode);\n",
      "\n",
      "                var wordData = JSON.parse('%s');\n",
      "                console.log(wordData);\n",
      "\n",
      "                function draw(words) {\n",
      "                    d3.select(\"#wordcloud\").append(\"svg\")\n",
      "                        .attr(\"width\", 600)\n",
      "                        .attr(\"height\", 502)\n",
      "                        .append(\"g\")\n",
      "                        .attr(\"transform\", \"translate(300,160)\")\n",
      "                        .selectAll(\"text\")\n",
      "                        .data(words)\n",
      "                        .enter().append(\"text\")\n",
      "                        .style(\"font-size\", function (d) { return d.size + \"px\"; })\n",
      "                        .style(\"font-family\", \"impact\")\n",
      "                        .style(\"fill\", function (d, i) { return fill(i); })\n",
      "                        .attr(\"text-anchor\", \"middle\")\n",
      "                        .attr(\"transform\", function (d) {\n",
      "                            return \"translate(\" + [d.x, d.y] + \")rotate(\" + d.rotate + \")\";\n",
      "                        })\n",
      "                        .text(function (d) { return d.text; });\n",
      "                }\n",
      "                console.log($(\"#wordcloud\"));\n",
      "\n",
      "                d3.layout.cloud().size([600, 502])\n",
      "                    .timeInterval(10)\n",
      "                    .words(wordData)\n",
      "                    .padding(1)\n",
      "                    .rotate(function () { return 0; })\n",
      "                    .font('impact')\n",
      "                    .fontSize(function (d) { return d.size; })\n",
      "                    .on(\"end\", draw)\n",
      "                    .start();\n",
      "\n",
      "        \"\"\" % json.dumps(wordcloud), lib=libs)\n"
     ],
     "language": "python",
     "metadata": {},
     "outputs": [],
     "prompt_number": 190
    },
    {
     "cell_type": "code",
     "collapsed": false,
     "input": [
      "wordcloud = map(\n",
      "    lambda s: {'text': s['keyword'], 'size': 15 + 40*float(s['relevance'])},\n",
      "    keywords['Society/Special Occasions']\n",
      ")\n",
      "plot_wordcloud(wordcloud)"
     ],
     "language": "python",
     "metadata": {},
     "outputs": [
      {
       "javascript": [
        "$.getScript(\"http://d3js.org/d3.v3.min.js\", function () {\n",
        "$.getScript(\"http://www.jasondavies.com/wordcloud/d3.layout.cloud.js\", function () {\n",
        "\n",
        "                var fill = d3.scale.category20b();\n",
        "\n",
        "                var cloudNode = $('<div id=\"wordcloud\"></div>');\n",
        "                element.append(cloudNode);\n",
        "\n",
        "                var wordData = JSON.parse('[{\"text\": \"day\", \"size\": 54.36}, {\"text\": \"happy new year\", \"size\": 47.8}, {\"text\": \"years\", \"size\": 34.68}, {\"text\": \"night\", \"size\": 34.68}, {\"text\": \"halloween costume\", \"size\": 34.68}, {\"text\": \"something\", \"size\": 34.68}, {\"text\": \"thanks\", \"size\": 34.68}, {\"text\": \"happy birthday\", \"size\": 34.68}, {\"text\": \"world tour presale\", \"size\": 31.4}, {\"text\": \"mancini pandora day\", \"size\": 31.4}, {\"text\": \"last night tho\", \"size\": 31.4}, {\"text\": \"aka stylist auntie\", \"size\": 31.4}, {\"text\": \"great time tonight\", \"size\": 31.4}, {\"text\": \"katycats per night\", \"size\": 31.4}, {\"text\": \"big happy birthday\", \"size\": 31.4}, {\"text\": \"1st facetime thanksgiving\", \"size\": 31.4}, {\"text\": \"family reunion tonight\", \"size\": 31.4}, {\"text\": \"happy 50th show\", \"size\": 31.4}, {\"text\": \"big family reunion\", \"size\": 31.4}, {\"text\": \"transcendental meditation today\", \"size\": 31.4}]');\n",
        "                console.log(wordData);\n",
        "\n",
        "                function draw(words) {\n",
        "                    d3.select(\"#wordcloud\").append(\"svg\")\n",
        "                        .attr(\"width\", 600)\n",
        "                        .attr(\"height\", 502)\n",
        "                        .append(\"g\")\n",
        "                        .attr(\"transform\", \"translate(300,160)\")\n",
        "                        .selectAll(\"text\")\n",
        "                        .data(words)\n",
        "                        .enter().append(\"text\")\n",
        "                        .style(\"font-size\", function (d) { return d.size + \"px\"; })\n",
        "                        .style(\"font-family\", \"impact\")\n",
        "                        .style(\"fill\", function (d, i) { return fill(i); })\n",
        "                        .attr(\"text-anchor\", \"middle\")\n",
        "                        .attr(\"transform\", function (d) {\n",
        "                            return \"translate(\" + [d.x, d.y] + \")rotate(\" + d.rotate + \")\";\n",
        "                        })\n",
        "                        .text(function (d) { return d.text; });\n",
        "                }\n",
        "                console.log($(\"#wordcloud\"));\n",
        "\n",
        "                d3.layout.cloud().size([600, 502])\n",
        "                    .timeInterval(10)\n",
        "                    .words(wordData)\n",
        "                    .padding(1)\n",
        "                    .rotate(function () { return 0; })\n",
        "                    .font('impact')\n",
        "                    .fontSize(function (d) { return d.size; })\n",
        "                    .on(\"end\", draw)\n",
        "                    .start();\n",
        "\n",
        "        });\n",
        "});\n"
       ],
       "metadata": {},
       "output_type": "pyout",
       "prompt_number": 198,
       "text": [
        "<IPython.core.display.Javascript at 0x7f3a793937d0>"
       ]
      }
     ],
     "prompt_number": 198
    }
   ],
   "metadata": {}
  }
 ]
}